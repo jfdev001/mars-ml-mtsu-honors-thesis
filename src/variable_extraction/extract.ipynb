{
 "metadata": {
  "language_info": {
   "codemirror_mode": {
    "name": "ipython",
    "version": 3
   },
   "file_extension": ".py",
   "mimetype": "text/x-python",
   "name": "python",
   "nbconvert_exporter": "python",
   "pygments_lexer": "ipython3",
   "version": "3.7.7-final"
  },
  "orig_nbformat": 2,
  "kernelspec": {
   "name": "python3",
   "display_name": "Python 3",
   "language": "python"
  }
 },
 "nbformat": 4,
 "nbformat_minor": 2,
 "cells": [
  {
   "cell_type": "code",
   "execution_count": 19,
   "metadata": {},
   "outputs": [],
   "source": [
    "# DESCRIPTION:\n",
    "# Generalize inspect.ipynb to create a parent data frame for all SOLs available"
   ]
  },
  {
   "cell_type": "code",
   "execution_count": 20,
   "metadata": {},
   "outputs": [],
   "source": [
    "# Imports\n",
    "from IPython.display import display\n",
    "import numpy as np\n",
    "import pandas as pd\n",
    "import os"
   ]
  },
  {
   "cell_type": "code",
   "execution_count": 21,
   "metadata": {},
   "outputs": [],
   "source": [
    "# Dictionary generating function for weather columns\n",
    "def create_weather_dict(series, descriptive_stat):\n",
    "    \"\"\"Iterates through series and creates weather data fields dictionary.\n",
    "    \n",
    "    :param series: <class 'pandas.core.series.Series'> to be iterated.\n",
    "    :param descriptive_stat: <class 'str'> to determine if max, mean, or min dictionary \n",
    "    :return: <class 'dict'> weather_dict\n",
    "    \"\"\"\n",
    "    weather_dict = {\n",
    "        # Features\n",
    "        f\"{descriptive_stat} Wind Speed (m/s)\": series[0],\n",
    "\n",
    "        f\"{descriptive_stat} Wind Direction (degrees)\": series[1],\n",
    "\n",
    "        f\"{descriptive_stat} Ground Temperature (K)\": series[2],\n",
    "\n",
    "        f\"{descriptive_stat} Air Temperature (K) for Boom 1\": series[3],\n",
    "\n",
    "        f\"{descriptive_stat} Air Temperature (K) for Boom 2\": series[4],\n",
    "\n",
    "        f\"{descriptive_stat} Local Relative Humidity (%)\": series[6],\n",
    "\n",
    "        f\"{descriptive_stat} Atmospheric Pressure (Pa)\": series[7],\n",
    "\n",
    "        # Output\n",
    "        f\"{descriptive_stat} Ambient Air Temperature (K)\": series[5],\n",
    "    }\n",
    "\n",
    "    return weather_dict"
   ]
  },
  {
   "cell_type": "code",
   "execution_count": 22,
   "metadata": {
    "tags": []
   },
   "outputs": [],
   "source": [
    "# List of files in data directory\n",
    "data_dir = \"C:\\\\Dev\\\\python\\\\MachineLearning\\\\BMI\\\\data\\\\raw_data\"\n",
    "data_file_list = os.listdir(data_dir)"
   ]
  },
  {
   "cell_type": "code",
   "execution_count": 23,
   "metadata": {
    "tags": []
   },
   "outputs": [],
   "source": [
    "# List of sols in directory\n",
    "sol_list = []\n",
    "for ele in data_file_list:\n",
    "    start = ele.find(\"RMD\") + 3\n",
    "    stop = start + 4\n",
    "    sol_list.append(ele[start:stop])"
   ]
  },
  {
   "cell_type": "code",
   "execution_count": 24,
   "metadata": {},
   "outputs": [],
   "source": [
    "# Parent dataframe to which each SOL's descriptive statistic dataframe will be added\n",
    "parent_df = pd.DataFrame()"
   ]
  },
  {
   "cell_type": "code",
   "execution_count": 25,
   "metadata": {},
   "outputs": [],
   "source": [
    "# Read through all files in data_dir and extract data, then add to parent_df\n",
    "for index, data_file in enumerate(data_file_list):\n",
    "    # Encompassing <class 'pd.DataFrame'> for all columns in data\n",
    "    data_path = os.path.join(data_dir, data_file)\n",
    "    df = pd.DataFrame(np.genfromtxt(data_path, delimiter=\",\"))\n",
    "    \n",
    "    # <class 'pd.DataFrame'> for only relevant features/output\n",
    "    new_df = df[[3, 5, 7, 11, 13, 15, 30, 37]]\n",
    "   \n",
    "    # Create descriptive statistic <class 'pd.DataFrame'>s \n",
    "    # Must use method reset_index(drop=True) to remove [3,5,7...] index column\n",
    "    min_df = new_df.min().reset_index(drop=True)\n",
    "    mean_df = new_df.mean().reset_index(drop=True)\n",
    "    max_df = new_df.max().reset_index(drop=True)\n",
    "\n",
    "    # Create weather dictionaries\n",
    "    min_dict = create_weather_dict(min_df, \"Minimum\")\n",
    "    mean_dict = create_weather_dict(mean_df, \"Mean\")\n",
    "    max_dict = create_weather_dict(max_df, \"Maximum\")\n",
    "\n",
    "    # Aggregate dictionaries and add SOL data field\n",
    "    descriptive_stat_dict = {**min_dict, **mean_dict, **max_dict, \"SOL\": sol_list[index]}\n",
    "\n",
    "    # <class 'pd.DataFrame'> for current file --> to be added to <class 'pd.DataFrame'> parent_df\n",
    "    file_df = pd.DataFrame(descriptive_stat_dict, index=[0])\n",
    "\n",
    "    # Update <class 'pd.DataFrame'> parent_df\n",
    "    parent_df = parent_df.append(file_df, ignore_index=True)"
   ]
  },
  {
   "cell_type": "code",
   "execution_count": 33,
   "metadata": {},
   "outputs": [
    {
     "output_type": "display_data",
     "data": {
      "text/plain": "       Minimum Wind Speed (m/s)  Minimum Wind Direction (degrees)  \\\ncount               1394.000000                       1397.000000   \nmean                   3.742080                         31.931625   \nstd                    0.772088                         32.374330   \nmin                    0.960000                          0.020000   \n25%                    3.200000                          7.100000   \n50%                    3.710000                         26.200000   \n75%                    4.190000                         50.680000   \nmax                    7.180000                        330.240000   \n\n       Minimum Ground Temperature (K)  Minimum Air Temperature (K) for Boom 1  \\\ncount                     2710.000000                             2710.000000   \nmean                       152.816077                              198.323199   \nstd                         25.064603                                6.491262   \nmin                         72.170000                              182.530000   \n25%                        138.022500                              193.652500   \n50%                        158.215000                              198.460000   \n75%                        170.617500                              202.910000   \nmax                        270.100000                              274.480000   \n\n       Minimum Air Temperature (K) for Boom 2  \\\ncount                             2710.000000   \nmean                               109.634292   \nstd                                 28.709935   \nmin                                 75.050000   \n25%                                 91.617500   \n50%                                 99.520000   \n75%                                118.712500   \nmax                                259.900000   \n\n       Minimum Local Relative Humidity (%)  Minimum Atmospheric Pressure (Pa)  \\\ncount                          2704.000000                        2711.000000   \nmean                              0.870847                         784.982062   \nstd                               0.337284                          56.259129   \nmin                               0.000000                         662.090000   \n25%                               0.610000                         741.565000   \n50%                               0.830000                         796.500000   \n75%                               1.120000                         830.945000   \nmax                               6.150000                         921.390000   \n\n       Minimum Ambient Air Temperature (K)  Mean Wind Speed (m/s)  \\\ncount                          2710.000000            1394.000000   \nmean                            197.317066               6.304692   \nstd                               6.406104               1.090384   \nmin                             124.590000               3.548889   \n25%                             193.240000               5.598396   \n50%                             197.325000               6.269697   \n75%                             201.755000               6.998407   \nmax                             259.900000              10.317833   \n\n       Mean Wind Direction (degrees)  ...  Mean Atmospheric Pressure (Pa)  \\\ncount                    1397.000000  ...                     2711.000000   \nmean                      168.234235  ...                      829.760166   \nstd                        68.639513  ...                       58.406511   \nmin                        15.627636  ...                      702.118063   \n25%                       115.738889  ...                      780.463594   \n50%                       157.292391  ...                      844.983629   \n75%                       221.751159  ...                      874.922395   \nmax                       341.090000  ...                      934.730147   \n\n       Mean Ambient Air Temperature (K)  Maximum Wind Speed (m/s)  \\\ncount                       2710.000000               1394.000000   \nmean                         223.308457                  9.383737   \nstd                            8.257959                  2.402320   \nmin                          198.601546                  4.230000   \n25%                          216.489194                  7.980000   \n50%                          223.871630                  9.145000   \n75%                          229.431363                 10.440000   \nmax                          267.976294                 21.790000   \n\n       Maximum Wind Direction (degrees)  Maximum Ground Temperature (K)  \\\ncount                       1397.000000                     2710.000000   \nmean                         326.549943                      275.212018   \nstd                           34.169267                        9.161776   \nmin                          137.500000                      211.890000   \n25%                          307.330000                      267.702500   \n50%                          337.240000                      275.885000   \n75%                          353.380000                      282.495000   \nmax                          359.990000                      297.530000   \n\n       Maximum Air Temperature (K) for Boom 1  \\\ncount                             2710.000000   \nmean                               262.410402   \nstd                                 12.135932   \nmin                                213.810000   \n25%                                252.050000   \n50%                                263.505000   \n75%                                272.735000   \nmax                                288.960000   \n\n       Maximum Air Temperature (K) for Boom 2  \\\ncount                             2710.000000   \nmean                               262.962768   \nstd                                 11.712300   \nmin                                214.340000   \n25%                                252.015000   \n50%                                263.695000   \n75%                                273.055000   \nmax                                286.690000   \n\n       Maximum Local Relative Humidity (%)  Maximum Atmospheric Pressure (Pa)  \\\ncount                          2704.000000                        2711.000000   \nmean                             23.518362                         866.562243   \nstd                              15.831049                          58.625160   \nmin                               0.000000                         706.180000   \n25%                              11.760000                         815.910000   \n50%                              19.080000                         883.560000   \n75%                              29.872500                         910.515000   \nmax                             104.430000                         969.650000   \n\n       Maximum Ambient Air Temperature (K)  \ncount                          2710.000000  \nmean                            258.874114  \nstd                              11.050283  \nmin                             213.810000  \n25%                             248.847500  \n50%                             260.000000  \n75%                             268.140000  \nmax                             285.810000  \n\n[8 rows x 24 columns]",
      "text/html": "<div>\n<style scoped>\n    .dataframe tbody tr th:only-of-type {\n        vertical-align: middle;\n    }\n\n    .dataframe tbody tr th {\n        vertical-align: top;\n    }\n\n    .dataframe thead th {\n        text-align: right;\n    }\n</style>\n<table border=\"1\" class=\"dataframe\">\n  <thead>\n    <tr style=\"text-align: right;\">\n      <th></th>\n      <th>Minimum Wind Speed (m/s)</th>\n      <th>Minimum Wind Direction (degrees)</th>\n      <th>Minimum Ground Temperature (K)</th>\n      <th>Minimum Air Temperature (K) for Boom 1</th>\n      <th>Minimum Air Temperature (K) for Boom 2</th>\n      <th>Minimum Local Relative Humidity (%)</th>\n      <th>Minimum Atmospheric Pressure (Pa)</th>\n      <th>Minimum Ambient Air Temperature (K)</th>\n      <th>Mean Wind Speed (m/s)</th>\n      <th>Mean Wind Direction (degrees)</th>\n      <th>...</th>\n      <th>Mean Atmospheric Pressure (Pa)</th>\n      <th>Mean Ambient Air Temperature (K)</th>\n      <th>Maximum Wind Speed (m/s)</th>\n      <th>Maximum Wind Direction (degrees)</th>\n      <th>Maximum Ground Temperature (K)</th>\n      <th>Maximum Air Temperature (K) for Boom 1</th>\n      <th>Maximum Air Temperature (K) for Boom 2</th>\n      <th>Maximum Local Relative Humidity (%)</th>\n      <th>Maximum Atmospheric Pressure (Pa)</th>\n      <th>Maximum Ambient Air Temperature (K)</th>\n    </tr>\n  </thead>\n  <tbody>\n    <tr>\n      <th>count</th>\n      <td>1394.000000</td>\n      <td>1397.000000</td>\n      <td>2710.000000</td>\n      <td>2710.000000</td>\n      <td>2710.000000</td>\n      <td>2704.000000</td>\n      <td>2711.000000</td>\n      <td>2710.000000</td>\n      <td>1394.000000</td>\n      <td>1397.000000</td>\n      <td>...</td>\n      <td>2711.000000</td>\n      <td>2710.000000</td>\n      <td>1394.000000</td>\n      <td>1397.000000</td>\n      <td>2710.000000</td>\n      <td>2710.000000</td>\n      <td>2710.000000</td>\n      <td>2704.000000</td>\n      <td>2711.000000</td>\n      <td>2710.000000</td>\n    </tr>\n    <tr>\n      <th>mean</th>\n      <td>3.742080</td>\n      <td>31.931625</td>\n      <td>152.816077</td>\n      <td>198.323199</td>\n      <td>109.634292</td>\n      <td>0.870847</td>\n      <td>784.982062</td>\n      <td>197.317066</td>\n      <td>6.304692</td>\n      <td>168.234235</td>\n      <td>...</td>\n      <td>829.760166</td>\n      <td>223.308457</td>\n      <td>9.383737</td>\n      <td>326.549943</td>\n      <td>275.212018</td>\n      <td>262.410402</td>\n      <td>262.962768</td>\n      <td>23.518362</td>\n      <td>866.562243</td>\n      <td>258.874114</td>\n    </tr>\n    <tr>\n      <th>std</th>\n      <td>0.772088</td>\n      <td>32.374330</td>\n      <td>25.064603</td>\n      <td>6.491262</td>\n      <td>28.709935</td>\n      <td>0.337284</td>\n      <td>56.259129</td>\n      <td>6.406104</td>\n      <td>1.090384</td>\n      <td>68.639513</td>\n      <td>...</td>\n      <td>58.406511</td>\n      <td>8.257959</td>\n      <td>2.402320</td>\n      <td>34.169267</td>\n      <td>9.161776</td>\n      <td>12.135932</td>\n      <td>11.712300</td>\n      <td>15.831049</td>\n      <td>58.625160</td>\n      <td>11.050283</td>\n    </tr>\n    <tr>\n      <th>min</th>\n      <td>0.960000</td>\n      <td>0.020000</td>\n      <td>72.170000</td>\n      <td>182.530000</td>\n      <td>75.050000</td>\n      <td>0.000000</td>\n      <td>662.090000</td>\n      <td>124.590000</td>\n      <td>3.548889</td>\n      <td>15.627636</td>\n      <td>...</td>\n      <td>702.118063</td>\n      <td>198.601546</td>\n      <td>4.230000</td>\n      <td>137.500000</td>\n      <td>211.890000</td>\n      <td>213.810000</td>\n      <td>214.340000</td>\n      <td>0.000000</td>\n      <td>706.180000</td>\n      <td>213.810000</td>\n    </tr>\n    <tr>\n      <th>25%</th>\n      <td>3.200000</td>\n      <td>7.100000</td>\n      <td>138.022500</td>\n      <td>193.652500</td>\n      <td>91.617500</td>\n      <td>0.610000</td>\n      <td>741.565000</td>\n      <td>193.240000</td>\n      <td>5.598396</td>\n      <td>115.738889</td>\n      <td>...</td>\n      <td>780.463594</td>\n      <td>216.489194</td>\n      <td>7.980000</td>\n      <td>307.330000</td>\n      <td>267.702500</td>\n      <td>252.050000</td>\n      <td>252.015000</td>\n      <td>11.760000</td>\n      <td>815.910000</td>\n      <td>248.847500</td>\n    </tr>\n    <tr>\n      <th>50%</th>\n      <td>3.710000</td>\n      <td>26.200000</td>\n      <td>158.215000</td>\n      <td>198.460000</td>\n      <td>99.520000</td>\n      <td>0.830000</td>\n      <td>796.500000</td>\n      <td>197.325000</td>\n      <td>6.269697</td>\n      <td>157.292391</td>\n      <td>...</td>\n      <td>844.983629</td>\n      <td>223.871630</td>\n      <td>9.145000</td>\n      <td>337.240000</td>\n      <td>275.885000</td>\n      <td>263.505000</td>\n      <td>263.695000</td>\n      <td>19.080000</td>\n      <td>883.560000</td>\n      <td>260.000000</td>\n    </tr>\n    <tr>\n      <th>75%</th>\n      <td>4.190000</td>\n      <td>50.680000</td>\n      <td>170.617500</td>\n      <td>202.910000</td>\n      <td>118.712500</td>\n      <td>1.120000</td>\n      <td>830.945000</td>\n      <td>201.755000</td>\n      <td>6.998407</td>\n      <td>221.751159</td>\n      <td>...</td>\n      <td>874.922395</td>\n      <td>229.431363</td>\n      <td>10.440000</td>\n      <td>353.380000</td>\n      <td>282.495000</td>\n      <td>272.735000</td>\n      <td>273.055000</td>\n      <td>29.872500</td>\n      <td>910.515000</td>\n      <td>268.140000</td>\n    </tr>\n    <tr>\n      <th>max</th>\n      <td>7.180000</td>\n      <td>330.240000</td>\n      <td>270.100000</td>\n      <td>274.480000</td>\n      <td>259.900000</td>\n      <td>6.150000</td>\n      <td>921.390000</td>\n      <td>259.900000</td>\n      <td>10.317833</td>\n      <td>341.090000</td>\n      <td>...</td>\n      <td>934.730147</td>\n      <td>267.976294</td>\n      <td>21.790000</td>\n      <td>359.990000</td>\n      <td>297.530000</td>\n      <td>288.960000</td>\n      <td>286.690000</td>\n      <td>104.430000</td>\n      <td>969.650000</td>\n      <td>285.810000</td>\n    </tr>\n  </tbody>\n</table>\n<p>8 rows × 24 columns</p>\n</div>"
     },
     "metadata": {}
    },
    {
     "output_type": "stream",
     "name": "stdout",
     "text": [
      "\n\n"
     ]
    },
    {
     "output_type": "display_data",
     "data": {
      "text/plain": "Minimum Wind Speed (m/s)                  1319\nMinimum Wind Direction (degrees)          1316\nMinimum Ground Temperature (K)               3\nMinimum Air Temperature (K) for Boom 1       3\nMinimum Air Temperature (K) for Boom 2       3\nMinimum Local Relative Humidity (%)          9\nMinimum Atmospheric Pressure (Pa)            2\nMinimum Ambient Air Temperature (K)          3\nMean Wind Speed (m/s)                     1319\nMean Wind Direction (degrees)             1316\nMean Ground Temperature (K)                  3\nMean Air Temperature (K) for Boom 1          3\nMean Air Temperature (K) for Boom 2          3\nMean Local Relative Humidity (%)             9\nMean Atmospheric Pressure (Pa)               2\nMean Ambient Air Temperature (K)             3\nMaximum Wind Speed (m/s)                  1319\nMaximum Wind Direction (degrees)          1316\nMaximum Ground Temperature (K)               3\nMaximum Air Temperature (K) for Boom 1       3\nMaximum Air Temperature (K) for Boom 2       3\nMaximum Local Relative Humidity (%)          9\nMaximum Atmospheric Pressure (Pa)            2\nMaximum Ambient Air Temperature (K)          3\nSOL                                          0\ndtype: int64"
     },
     "metadata": {}
    }
   ],
   "source": [
    "# Information about the data\n",
    "display(parent_df.describe())\n",
    "print()\n",
    "print()\n",
    "display(parent_df.isna().sum())"
   ]
  },
  {
   "cell_type": "code",
   "execution_count": 1,
   "metadata": {},
   "outputs": [
    {
     "output_type": "error",
     "ename": "NameError",
     "evalue": "name 'parent_df' is not defined",
     "traceback": [
      "\u001b[1;31m---------------------------------------------------------------------------\u001b[0m",
      "\u001b[1;31mNameError\u001b[0m                                 Traceback (most recent call last)",
      "\u001b[1;32m<ipython-input-1-0d834c5e2eb8>\u001b[0m in \u001b[0;36m<module>\u001b[1;34m\u001b[0m\n\u001b[0;32m      1\u001b[0m \u001b[1;31m# Write unclean data to csv\u001b[0m\u001b[1;33m\u001b[0m\u001b[1;33m\u001b[0m\u001b[1;33m\u001b[0m\u001b[0m\n\u001b[1;32m----> 2\u001b[1;33m \u001b[0mparent_df\u001b[0m\u001b[1;33m.\u001b[0m\u001b[0mto_csv\u001b[0m\u001b[1;33m(\u001b[0m\u001b[1;34mr\"C:\\Dev\\python\\MachineLearning\\BMI\\data\\processed_data\\unclean.csv\"\u001b[0m\u001b[1;33m,\u001b[0m \u001b[0mindex\u001b[0m\u001b[1;33m=\u001b[0m\u001b[1;32mFalse\u001b[0m\u001b[1;33m)\u001b[0m\u001b[1;33m\u001b[0m\u001b[1;33m\u001b[0m\u001b[0m\n\u001b[0m",
      "\u001b[1;31mNameError\u001b[0m: name 'parent_df' is not defined"
     ]
    }
   ],
   "source": [
    "# Write unclean data to csv\n",
    "parent_df.to_csv(os.path.join(os.getcwd(), '../data/unclean.csv'), index=False)"
   ]
  },
  {
   "cell_type": "code",
   "execution_count": null,
   "metadata": {},
   "outputs": [],
   "source": []
  }
 ]
}