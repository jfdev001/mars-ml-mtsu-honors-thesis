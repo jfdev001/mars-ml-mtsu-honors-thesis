{
 "metadata": {
  "language_info": {
   "codemirror_mode": {
    "name": "ipython",
    "version": 3
   },
   "file_extension": ".py",
   "mimetype": "text/x-python",
   "name": "python",
   "nbconvert_exporter": "python",
   "pygments_lexer": "ipython3",
   "version": "3.8.5"
  },
  "orig_nbformat": 2,
  "kernelspec": {
   "name": "python3",
   "display_name": "Python 3.8.5 64-bit ('BMI': conda)",
   "metadata": {
    "interpreter": {
     "hash": "a3100337a01972dfcbf9a997ebdada4bb1f3bf691dc09d7430e00c925a8acd06"
    }
   }
  }
 },
 "nbformat": 4,
 "nbformat_minor": 2,
 "cells": [
  {
   "source": [
    "# DESCRIPTION:\n",
    "# Prototyping descriptive statistic data frames for one file.\n",
    "#\n",
    "# Each column specified in MODRDR6.FMT is separated by commas.\n",
    "# To access each column by 'list indexing', I will have to \n",
    "# convert each readline to a line. This is pretty memory intensive though\n",
    "# over millions of lines, so perhaps yield would be a better solution.\n",
    "#\n",
    "# Also consider the same thing for the lists themselves."
   ],
   "cell_type": "code",
   "metadata": {},
   "execution_count": 1,
   "outputs": []
  },
  {
   "cell_type": "code",
   "execution_count": 2,
   "metadata": {},
   "outputs": [],
   "source": [
    "# Imports\n",
    "import numpy as np\n",
    "import pandas as pd\n",
    "import os"
   ]
  },
  {
   "cell_type": "code",
   "execution_count": null,
   "metadata": {},
   "outputs": [],
   "source": [
    "# Dictionary generating function for weather columns\n",
    "def create_weather_dict(series, descriptive_stat):\n",
    "    \"\"\"Iterates through series and creates weather data fields dictionary.\n",
    "    \n",
    "    :param series: <class 'pandas.core.series.Series'> to be iterated.\n",
    "    :param descriptive_stat: <class 'str'> to determine if max, mean, or min dictionary \n",
    "    :return: <class 'dict'> weather_dict\n",
    "    \"\"\"\n",
    "    weather_dict = {\n",
    "        # Features\n",
    "        f\"{descriptive_stat} Wind Speed (m/s)\": series[0],\n",
    "\n",
    "        f\"{descriptive_stat} Wind Direction (degrees)\": series[1],\n",
    "\n",
    "        f\"{descriptive_stat} Ground Temperature (K)\": series[2],\n",
    "\n",
    "        f\"{descriptive_stat} Air Temperature (K) for Boom 1\": series[3],\n",
    "\n",
    "        f\"{descriptive_stat} Air Temperature (K) for Boom 2\": series[4],\n",
    "\n",
    "        f\"{descriptive_stat} Local Relative Humidity (%)\": series[6],\n",
    "\n",
    "        f\"{descriptive_stat} Atmospheric Pressure (Pa)\": series[7],\n",
    "\n",
    "        # Output\n",
    "        f\"{descriptive_stat} Ambient Air Temperature (K)\": series[5],\n",
    "    }\n",
    "\n",
    "    return weather_dict\n"
   ]
  },
  {
   "cell_type": "code",
   "execution_count": 5,
   "metadata": {},
   "outputs": [],
   "source": [
    "# Load data\n",
    "data_path = r\"C:\\Dev\\python\\MachineLearning\\BMI\\data\\raw_data\\RME_398422988RMD00110000000_______P9.TAB\"\n",
    "df = pd.DataFrame(np.genfromtxt(data_path, delimiter=\",\"))"
   ]
  },
  {
   "cell_type": "code",
   "execution_count": 27,
   "metadata": {},
   "outputs": [
    {
     "output_type": "execute_result",
     "data": {
      "text/plain": [
       "              3           5             7             11            13  \\\n",
       "count  25.000000   33.000000  10620.000000  12360.000000  12360.000000   \n",
       "mean    6.531600  148.743636    245.767400    242.062113    226.560402   \n",
       "std     1.445924  101.248044     31.082786     25.835413     39.710816   \n",
       "min     4.310000   58.370000    162.110000    196.540000     97.670000   \n",
       "25%     5.380000   83.490000    211.540000    217.670000    220.150000   \n",
       "50%     6.190000  103.440000    258.415000    256.050000    247.160000   \n",
       "75%     7.820000  168.470000    274.172500    265.360000    251.810000   \n",
       "max     9.560000  338.490000    281.860000    273.260000    262.840000   \n",
       "\n",
       "                 15            30            37  \n",
       "count  12360.000000  12235.000000  12360.000000  \n",
       "mean     234.811741      5.023980    724.064675  \n",
       "std       20.251043      7.654241     28.601167  \n",
       "min      196.540000      0.000000    692.670000  \n",
       "25%      217.637500      0.890000    695.040000  \n",
       "50%      245.760000      1.610000    714.355000  \n",
       "75%      251.810000      4.270000    755.400000  \n",
       "max      273.260000     31.410000    779.530000  "
      ],
      "text/html": "<div>\n<style scoped>\n    .dataframe tbody tr th:only-of-type {\n        vertical-align: middle;\n    }\n\n    .dataframe tbody tr th {\n        vertical-align: top;\n    }\n\n    .dataframe thead th {\n        text-align: right;\n    }\n</style>\n<table border=\"1\" class=\"dataframe\">\n  <thead>\n    <tr style=\"text-align: right;\">\n      <th></th>\n      <th>3</th>\n      <th>5</th>\n      <th>7</th>\n      <th>11</th>\n      <th>13</th>\n      <th>15</th>\n      <th>30</th>\n      <th>37</th>\n    </tr>\n  </thead>\n  <tbody>\n    <tr>\n      <th>count</th>\n      <td>25.000000</td>\n      <td>33.000000</td>\n      <td>10620.000000</td>\n      <td>12360.000000</td>\n      <td>12360.000000</td>\n      <td>12360.000000</td>\n      <td>12235.000000</td>\n      <td>12360.000000</td>\n    </tr>\n    <tr>\n      <th>mean</th>\n      <td>6.531600</td>\n      <td>148.743636</td>\n      <td>245.767400</td>\n      <td>242.062113</td>\n      <td>226.560402</td>\n      <td>234.811741</td>\n      <td>5.023980</td>\n      <td>724.064675</td>\n    </tr>\n    <tr>\n      <th>std</th>\n      <td>1.445924</td>\n      <td>101.248044</td>\n      <td>31.082786</td>\n      <td>25.835413</td>\n      <td>39.710816</td>\n      <td>20.251043</td>\n      <td>7.654241</td>\n      <td>28.601167</td>\n    </tr>\n    <tr>\n      <th>min</th>\n      <td>4.310000</td>\n      <td>58.370000</td>\n      <td>162.110000</td>\n      <td>196.540000</td>\n      <td>97.670000</td>\n      <td>196.540000</td>\n      <td>0.000000</td>\n      <td>692.670000</td>\n    </tr>\n    <tr>\n      <th>25%</th>\n      <td>5.380000</td>\n      <td>83.490000</td>\n      <td>211.540000</td>\n      <td>217.670000</td>\n      <td>220.150000</td>\n      <td>217.637500</td>\n      <td>0.890000</td>\n      <td>695.040000</td>\n    </tr>\n    <tr>\n      <th>50%</th>\n      <td>6.190000</td>\n      <td>103.440000</td>\n      <td>258.415000</td>\n      <td>256.050000</td>\n      <td>247.160000</td>\n      <td>245.760000</td>\n      <td>1.610000</td>\n      <td>714.355000</td>\n    </tr>\n    <tr>\n      <th>75%</th>\n      <td>7.820000</td>\n      <td>168.470000</td>\n      <td>274.172500</td>\n      <td>265.360000</td>\n      <td>251.810000</td>\n      <td>251.810000</td>\n      <td>4.270000</td>\n      <td>755.400000</td>\n    </tr>\n    <tr>\n      <th>max</th>\n      <td>9.560000</td>\n      <td>338.490000</td>\n      <td>281.860000</td>\n      <td>273.260000</td>\n      <td>262.840000</td>\n      <td>273.260000</td>\n      <td>31.410000</td>\n      <td>779.530000</td>\n    </tr>\n  </tbody>\n</table>\n</div>"
     },
     "metadata": {},
     "execution_count": 27
    }
   ],
   "source": [
    "# Display data -- significantly smaller HWS and WDIR sample size\n",
    "new_df = df[[3, 5, 7, 11, 13, 15, 30, 37]]\n",
    "new_df.describe()"
   ]
  },
  {
   "cell_type": "code",
   "execution_count": 34,
   "metadata": {},
   "outputs": [
    {
     "output_type": "stream",
     "name": "stdout",
     "text": [
      "0      4.31\n1     58.37\n2    162.11\n3    196.54\n4     97.67\n5    196.54\n6      0.00\n7    692.67\ndtype: float64\n"
     ]
    }
   ],
   "source": [
    "# Estimator dfs\n",
    "min_df = new_df.min().reset_index(drop=True)\n",
    "mean_df = new_df.mean().reset_index(drop=True)\n",
    "max_df = new_df.max().reset_index(drop=True)"
   ]
  },
  {
   "cell_type": "code",
   "execution_count": 35,
   "metadata": {},
   "outputs": [],
   "source": [
    "# Build min dictionary from min_df\n",
    "min_dict = create_weather_dict(min_df, \"Minimum\")\n",
    "mean_dict = create_weather_dict(mean_df, \"Mean\")\n",
    "max_dict = create_weather_dict(max_df, \"Maximum\")"
   ]
  },
  {
   "cell_type": "code",
   "execution_count": 21,
   "metadata": {},
   "outputs": [],
   "source": [
    "# Combine and print dictionary\n",
    "final_dict = {**min_dict, **mean_dict, **max_dict}"
   ]
  },
  {
   "cell_type": "code",
   "execution_count": 22,
   "metadata": {},
   "outputs": [
    {
     "output_type": "execute_result",
     "data": {
      "text/plain": [
       "   Minimum Wind Speed (m/s)  Minimum Wind Direction (degrees)  \\\n",
       "0                      4.31                             58.37   \n",
       "\n",
       "   Minimum Ground Temperature (K)  Minimum Air Temperature (K) for Boom 1  \\\n",
       "0                          162.11                                  196.54   \n",
       "\n",
       "   Minimum Air Temperature (K) for Boom 2  \\\n",
       "0                                   97.67   \n",
       "\n",
       "   Minimum Local Relative Humidity (%)  Minimum Atmospheric Pressure (Pa)  \\\n",
       "0                                  0.0                             692.67   \n",
       "\n",
       "   Minimum Ambient Air Temperature (K)  Mean Wind Speed (m/s)  \\\n",
       "0                               196.54                 6.5316   \n",
       "\n",
       "   Mean Wind Direction (degrees)  ...  Mean Atmospheric Pressure (Pa)  \\\n",
       "0                     148.743636  ...                      724.064675   \n",
       "\n",
       "   Mean Ambient Air Temperature (K)  Maximum Wind Speed (m/s)  \\\n",
       "0                        234.811741                      9.56   \n",
       "\n",
       "   Maximum Wind Direction (degrees)  Maximum Ground Temperature (K)  \\\n",
       "0                            338.49                          281.86   \n",
       "\n",
       "   Maximum Air Temperature (K) for Boom 1  \\\n",
       "0                                  273.26   \n",
       "\n",
       "   Maximum Air Temperature (K) for Boom 2  \\\n",
       "0                                  262.84   \n",
       "\n",
       "   Maximum Local Relative Humidity (%)  Maximum Atmospheric Pressure (Pa)  \\\n",
       "0                                31.41                             779.53   \n",
       "\n",
       "   Maximum Ambient Air Temperature (K)  \n",
       "0                               273.26  \n",
       "\n",
       "[1 rows x 24 columns]"
      ],
      "text/html": "<div>\n<style scoped>\n    .dataframe tbody tr th:only-of-type {\n        vertical-align: middle;\n    }\n\n    .dataframe tbody tr th {\n        vertical-align: top;\n    }\n\n    .dataframe thead th {\n        text-align: right;\n    }\n</style>\n<table border=\"1\" class=\"dataframe\">\n  <thead>\n    <tr style=\"text-align: right;\">\n      <th></th>\n      <th>Minimum Wind Speed (m/s)</th>\n      <th>Minimum Wind Direction (degrees)</th>\n      <th>Minimum Ground Temperature (K)</th>\n      <th>Minimum Air Temperature (K) for Boom 1</th>\n      <th>Minimum Air Temperature (K) for Boom 2</th>\n      <th>Minimum Local Relative Humidity (%)</th>\n      <th>Minimum Atmospheric Pressure (Pa)</th>\n      <th>Minimum Ambient Air Temperature (K)</th>\n      <th>Mean Wind Speed (m/s)</th>\n      <th>Mean Wind Direction (degrees)</th>\n      <th>...</th>\n      <th>Mean Atmospheric Pressure (Pa)</th>\n      <th>Mean Ambient Air Temperature (K)</th>\n      <th>Maximum Wind Speed (m/s)</th>\n      <th>Maximum Wind Direction (degrees)</th>\n      <th>Maximum Ground Temperature (K)</th>\n      <th>Maximum Air Temperature (K) for Boom 1</th>\n      <th>Maximum Air Temperature (K) for Boom 2</th>\n      <th>Maximum Local Relative Humidity (%)</th>\n      <th>Maximum Atmospheric Pressure (Pa)</th>\n      <th>Maximum Ambient Air Temperature (K)</th>\n    </tr>\n  </thead>\n  <tbody>\n    <tr>\n      <th>0</th>\n      <td>4.31</td>\n      <td>58.37</td>\n      <td>162.11</td>\n      <td>196.54</td>\n      <td>97.67</td>\n      <td>0.0</td>\n      <td>692.67</td>\n      <td>196.54</td>\n      <td>6.5316</td>\n      <td>148.743636</td>\n      <td>...</td>\n      <td>724.064675</td>\n      <td>234.811741</td>\n      <td>9.56</td>\n      <td>338.49</td>\n      <td>281.86</td>\n      <td>273.26</td>\n      <td>262.84</td>\n      <td>31.41</td>\n      <td>779.53</td>\n      <td>273.26</td>\n    </tr>\n  </tbody>\n</table>\n<p>1 rows × 24 columns</p>\n</div>"
     },
     "metadata": {},
     "execution_count": 22
    }
   ],
   "source": [
    "# Make estimator dataframe\n",
    "est_df = pd.DataFrame(final_dict, index=[0])\n",
    "est_df"
   ]
  },
  {
   "cell_type": "code",
   "execution_count": null,
   "metadata": {},
   "outputs": [],
   "source": []
  }
 ]
}